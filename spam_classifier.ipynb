{
 "cells": [
  {
   "cell_type": "code",
   "execution_count": 1,
   "metadata": {},
   "outputs": [],
   "source": [
    "import numpy as np\n",
    "import pandas as pd\n",
    "import nltk \n",
    "import seaborn as sns\n",
    "import matplotlib.pyplot as plt\n",
    "%matplotlib inline\n"
   ]
  },
  {
   "cell_type": "code",
   "execution_count": 4,
   "metadata": {},
   "outputs": [],
   "source": [
    "smscollection = [line.rstrip() for line in open(\"C:/Users/yorkuniversity/Documents/cH/smsspamcollection/SMSSpamCollection\")]"
   ]
  },
  {
   "cell_type": "code",
   "execution_count": 5,
   "metadata": {},
   "outputs": [
    {
     "name": "stdout",
     "output_type": "stream",
     "text": [
      "Smscollection is of <class 'list'> and its length is equal to 5574 which is equal to the number of messages or lines in the file.\n"
     ]
    }
   ],
   "source": [
    "print(\"Smscollection is of {type} and its length is equal to {length} \\\n",
    "which is equal to the number of messages or lines in the file.\\\n",
    "\".format(type = type(smscollection), length = len(smscollection)))"
   ]
  },
  {
   "cell_type": "code",
   "execution_count": 6,
   "metadata": {},
   "outputs": [
    {
     "data": {
      "text/plain": [
       "\"ham\\tNew Theory: Argument wins d SITUATION, but loses the PERSON. So dont argue with ur friends just.. . . . kick them &amp; say, I'm always correct.!\""
      ]
     },
     "execution_count": 6,
     "metadata": {},
     "output_type": "execute_result"
    }
   ],
   "source": [
    "# Let's print out some random lines to get a feeling of the structure of data \n",
    "# ofc such a file could be reviewd with text editors as well (my favorite = Notepad++) \n",
    "# but this verifies whether the file has been read correctly as well\n",
    "\n",
    "smscollection[239]"
   ]
  },
  {
   "cell_type": "code",
   "execution_count": 7,
   "metadata": {},
   "outputs": [
    {
     "name": "stdout",
     "output_type": "stream",
     "text": [
      "0 ham\tEven my brother is not like to speak with me. They treat me like aids patent.\n",
      "1 ham\tAs per your request 'Melle Melle (Oru Minnaminunginte Nurungu Vettam)' has been set as your callertune for all Callers. Press *9 to copy your friends Callertune\n",
      "2 spam\tWINNER!! As a valued network customer you have been selected to receivea Â£900 prize reward! To claim call 09061701461. Claim code KL341. Valid 12 hours only.\n",
      "3 spam\tHad your mobile 11 months or more? U R entitled to Update to the latest colour mobiles with camera for Free! Call The Mobile Update Co FREE on 08002986030\n",
      "4 ham\tI'm gonna be home soon and i don't want to talk about this stuff anymore tonight, k? I've cried enough today.\n",
      "5 spam\tSIX chances to win CASH! From 100 to 20,000 pounds txt> CSH11 and send to 87575. Cost 150p/day, 6days, 16+ TsandCs apply Reply HL 4 info\n",
      "6 spam\tURGENT! You have won a 1 week FREE membership in our Â£100,000 Prize Jackpot! Txt the word: CLAIM to No: 81010 T&C www.dbuk.net LCCLTD POBOX 4403LDNW1A7RW18\n",
      "7 ham\tI've been searching for the right words to thank you for this breather. I promise i wont take your help for granted and will fulfil my promise. You have been wonderful and a blessing at all times.\n"
     ]
    }
   ],
   "source": [
    "for num, text in enumerate(smscollection[6:14]):\n",
    "    print(num, text)"
   ]
  },
  {
   "cell_type": "code",
   "execution_count": 8,
   "metadata": {},
   "outputs": [],
   "source": [
    "# Given the tab separated texts that we have in the file with the label put first, we can create a dataframe with pandas:\n",
    "\n",
    "sms_df = pd.read_csv('C:/Users/yorkuniversity/Documents/cH/smsspamcollection/SMSSpamCollection', sep= '\\t', names = ['label', 'text'])"
   ]
  },
  {
   "cell_type": "code",
   "execution_count": 9,
   "metadata": {},
   "outputs": [
    {
     "data": {
      "text/html": [
       "<div>\n",
       "<style scoped>\n",
       "    .dataframe tbody tr th:only-of-type {\n",
       "        vertical-align: middle;\n",
       "    }\n",
       "\n",
       "    .dataframe tbody tr th {\n",
       "        vertical-align: top;\n",
       "    }\n",
       "\n",
       "    .dataframe thead th {\n",
       "        text-align: right;\n",
       "    }\n",
       "</style>\n",
       "<table border=\"1\" class=\"dataframe\">\n",
       "  <thead>\n",
       "    <tr style=\"text-align: right;\">\n",
       "      <th></th>\n",
       "      <th>label</th>\n",
       "      <th>text</th>\n",
       "    </tr>\n",
       "  </thead>\n",
       "  <tbody>\n",
       "    <tr>\n",
       "      <th>0</th>\n",
       "      <td>ham</td>\n",
       "      <td>Go until jurong point, crazy.. Available only ...</td>\n",
       "    </tr>\n",
       "    <tr>\n",
       "      <th>1</th>\n",
       "      <td>ham</td>\n",
       "      <td>Ok lar... Joking wif u oni...</td>\n",
       "    </tr>\n",
       "    <tr>\n",
       "      <th>2</th>\n",
       "      <td>spam</td>\n",
       "      <td>Free entry in 2 a wkly comp to win FA Cup fina...</td>\n",
       "    </tr>\n",
       "    <tr>\n",
       "      <th>3</th>\n",
       "      <td>ham</td>\n",
       "      <td>U dun say so early hor... U c already then say...</td>\n",
       "    </tr>\n",
       "    <tr>\n",
       "      <th>4</th>\n",
       "      <td>ham</td>\n",
       "      <td>Nah I don't think he goes to usf, he lives aro...</td>\n",
       "    </tr>\n",
       "  </tbody>\n",
       "</table>\n",
       "</div>"
      ],
      "text/plain": [
       "  label                                               text\n",
       "0   ham  Go until jurong point, crazy.. Available only ...\n",
       "1   ham                      Ok lar... Joking wif u oni...\n",
       "2  spam  Free entry in 2 a wkly comp to win FA Cup fina...\n",
       "3   ham  U dun say so early hor... U c already then say...\n",
       "4   ham  Nah I don't think he goes to usf, he lives aro..."
      ]
     },
     "execution_count": 9,
     "metadata": {},
     "output_type": "execute_result"
    }
   ],
   "source": [
    "sms_df.head()"
   ]
  },
  {
   "cell_type": "code",
   "execution_count": 10,
   "metadata": {},
   "outputs": [],
   "source": [
    "sms_df['text length'] = sms_df['text'].apply(lambda text: len(text.split(' ')))"
   ]
  },
  {
   "cell_type": "code",
   "execution_count": 11,
   "metadata": {},
   "outputs": [
    {
     "data": {
      "text/html": [
       "<div>\n",
       "<style scoped>\n",
       "    .dataframe tbody tr th:only-of-type {\n",
       "        vertical-align: middle;\n",
       "    }\n",
       "\n",
       "    .dataframe tbody tr th {\n",
       "        vertical-align: top;\n",
       "    }\n",
       "\n",
       "    .dataframe thead th {\n",
       "        text-align: right;\n",
       "    }\n",
       "</style>\n",
       "<table border=\"1\" class=\"dataframe\">\n",
       "  <thead>\n",
       "    <tr style=\"text-align: right;\">\n",
       "      <th></th>\n",
       "      <th>label</th>\n",
       "      <th>text</th>\n",
       "      <th>text length</th>\n",
       "    </tr>\n",
       "  </thead>\n",
       "  <tbody>\n",
       "    <tr>\n",
       "      <th>0</th>\n",
       "      <td>ham</td>\n",
       "      <td>Go until jurong point, crazy.. Available only ...</td>\n",
       "      <td>20</td>\n",
       "    </tr>\n",
       "    <tr>\n",
       "      <th>1</th>\n",
       "      <td>ham</td>\n",
       "      <td>Ok lar... Joking wif u oni...</td>\n",
       "      <td>6</td>\n",
       "    </tr>\n",
       "    <tr>\n",
       "      <th>2</th>\n",
       "      <td>spam</td>\n",
       "      <td>Free entry in 2 a wkly comp to win FA Cup fina...</td>\n",
       "      <td>28</td>\n",
       "    </tr>\n",
       "    <tr>\n",
       "      <th>3</th>\n",
       "      <td>ham</td>\n",
       "      <td>U dun say so early hor... U c already then say...</td>\n",
       "      <td>11</td>\n",
       "    </tr>\n",
       "    <tr>\n",
       "      <th>4</th>\n",
       "      <td>ham</td>\n",
       "      <td>Nah I don't think he goes to usf, he lives aro...</td>\n",
       "      <td>13</td>\n",
       "    </tr>\n",
       "  </tbody>\n",
       "</table>\n",
       "</div>"
      ],
      "text/plain": [
       "  label                                               text  text length\n",
       "0   ham  Go until jurong point, crazy.. Available only ...           20\n",
       "1   ham                      Ok lar... Joking wif u oni...            6\n",
       "2  spam  Free entry in 2 a wkly comp to win FA Cup fina...           28\n",
       "3   ham  U dun say so early hor... U c already then say...           11\n",
       "4   ham  Nah I don't think he goes to usf, he lives aro...           13"
      ]
     },
     "execution_count": 11,
     "metadata": {},
     "output_type": "execute_result"
    }
   ],
   "source": [
    "sms_df.head()"
   ]
  },
  {
   "cell_type": "code",
   "execution_count": 12,
   "metadata": {},
   "outputs": [
    {
     "data": {
      "text/html": [
       "<div>\n",
       "<style scoped>\n",
       "    .dataframe tbody tr th:only-of-type {\n",
       "        vertical-align: middle;\n",
       "    }\n",
       "\n",
       "    .dataframe tbody tr th {\n",
       "        vertical-align: top;\n",
       "    }\n",
       "\n",
       "    .dataframe thead th {\n",
       "        text-align: right;\n",
       "    }\n",
       "</style>\n",
       "<table border=\"1\" class=\"dataframe\">\n",
       "  <thead>\n",
       "    <tr style=\"text-align: right;\">\n",
       "      <th></th>\n",
       "      <th>text length</th>\n",
       "    </tr>\n",
       "  </thead>\n",
       "  <tbody>\n",
       "    <tr>\n",
       "      <th>count</th>\n",
       "      <td>5572.000000</td>\n",
       "    </tr>\n",
       "    <tr>\n",
       "      <th>mean</th>\n",
       "      <td>15.709440</td>\n",
       "    </tr>\n",
       "    <tr>\n",
       "      <th>std</th>\n",
       "      <td>11.493753</td>\n",
       "    </tr>\n",
       "    <tr>\n",
       "      <th>min</th>\n",
       "      <td>1.000000</td>\n",
       "    </tr>\n",
       "    <tr>\n",
       "      <th>25%</th>\n",
       "      <td>7.000000</td>\n",
       "    </tr>\n",
       "    <tr>\n",
       "      <th>50%</th>\n",
       "      <td>12.000000</td>\n",
       "    </tr>\n",
       "    <tr>\n",
       "      <th>75%</th>\n",
       "      <td>23.000000</td>\n",
       "    </tr>\n",
       "    <tr>\n",
       "      <th>max</th>\n",
       "      <td>171.000000</td>\n",
       "    </tr>\n",
       "  </tbody>\n",
       "</table>\n",
       "</div>"
      ],
      "text/plain": [
       "       text length\n",
       "count  5572.000000\n",
       "mean     15.709440\n",
       "std      11.493753\n",
       "min       1.000000\n",
       "25%       7.000000\n",
       "50%      12.000000\n",
       "75%      23.000000\n",
       "max     171.000000"
      ]
     },
     "execution_count": 12,
     "metadata": {},
     "output_type": "execute_result"
    }
   ],
   "source": [
    "sms_df.describe()"
   ]
  },
  {
   "cell_type": "code",
   "execution_count": 13,
   "metadata": {},
   "outputs": [
    {
     "data": {
      "text/plain": [
       "<AxesSubplot:xlabel='text length', ylabel='Count'>"
      ]
     },
     "execution_count": 13,
     "metadata": {},
     "output_type": "execute_result"
    },
    {
     "data": {
      "image/png": "[encoded data removed]",
      "text/plain": [
       "<Figure size 432x288 with 1 Axes>"
      ]
     },
     "metadata": {
      "needs_background": "light"
     },
     "output_type": "display_data"
    }
   ],
   "source": [
    "sns.histplot(data=sms_df, x = \"text length\", kde=True, binwidth = 10, hue = 'label', multiple = 'stack') "
   ]
  },
  {
   "cell_type": "code",
   "execution_count": 14,
   "metadata": {},
   "outputs": [
    {
     "data": {
      "text/plain": [
       "<AxesSubplot:xlabel='label', ylabel='count'>"
      ]
     },
     "execution_count": 14,
     "metadata": {},
     "output_type": "execute_result"
    },
    {
     "data": {
      "image/png": "[encoded data removed]",
      "text/plain": [
       "<Figure size 432x288 with 1 Axes>"
      ]
     },
     "metadata": {
      "needs_background": "light"
     },
     "output_type": "display_data"
    }
   ],
   "source": [
    "#Looking at the histogram of the data that is hued by the type of the message (being spam or not), one could see that spam messages tend to be longer than legitimate messages. Also the counts of the two classes seem inbalanced which could be further verified:\n",
    "\n",
    "sns.countplot(x='label', data = sms_df, palette = 'viridis')\n"
   ]
  },
  {
   "cell_type": "code",
   "execution_count": 15,
   "metadata": {},
   "outputs": [
    {
     "name": "stderr",
     "output_type": "stream",
     "text": [
      "[nltk_data] Downloading package stopwords to\n",
      "[nltk_data]     C:\\Users\\yorkuniversity\\AppData\\Roaming\\nltk_data...\n",
      "[nltk_data]   Package stopwords is already up-to-date!\n"
     ]
    },
    {
     "data": {
      "text/plain": [
       "True"
      ]
     },
     "execution_count": 15,
     "metadata": {},
     "output_type": "execute_result"
    }
   ],
   "source": [
    "# the countplot also suggests that there is an imbalance between the distributions of classes in the data\n",
    "# Now it is time for Data preprocessing\n",
    "\n",
    "import string\n",
    "import re\n",
    "from nltk.corpus import stopwords\n",
    "from nltk.tokenize import word_tokenize\n",
    "\n",
    "nltk.download('stopwords')"
   ]
  },
  {
   "cell_type": "code",
   "execution_count": 16,
   "metadata": {},
   "outputs": [],
   "source": [
    "def preprocess_text(text):\n",
    "    \"\"\"\n",
    "    \n",
    "    1. make text lower case\n",
    "    2. remove links\n",
    "    3. remove punc\n",
    "    4. remove words with numbers\n",
    "    5. remove stop words\n",
    "    6. stemming\n",
    "    \n",
    "    \"\"\"\n",
    "    text_lower = str(text).lower()\n",
    "    text_nolink = re.sub('https?://\\S+|www\\.\\S+', '', text_lower)\n",
    "    punc_free_chars = [ch for ch in text if ch not in string.punctuation]\n",
    "    text_no_punctuation = ''.join(punc_free_chars)\n",
    "    nonumb_words = re.sub('\\w*\\d\\w*', '', text_no_punctuation)\n",
    "    clean_words = [w for w in nonumb_words.split() if w not in stopwords.words('english')]\n",
    "    stemmed_words = [nltk.SnowballStemmer('english').stem(w) for w in clean_words]\n",
    "    return stemmed_words\n",
    "\n",
    "def join_words(list):\n",
    "    text=' '.join(list)\n",
    "    return text"
   ]
  },
  {
   "cell_type": "code",
   "execution_count": 17,
   "metadata": {},
   "outputs": [
    {
     "data": {
      "text/html": [
       "<div>\n",
       "<style scoped>\n",
       "    .dataframe tbody tr th:only-of-type {\n",
       "        vertical-align: middle;\n",
       "    }\n",
       "\n",
       "    .dataframe tbody tr th {\n",
       "        vertical-align: top;\n",
       "    }\n",
       "\n",
       "    .dataframe thead th {\n",
       "        text-align: right;\n",
       "    }\n",
       "</style>\n",
       "<table border=\"1\" class=\"dataframe\">\n",
       "  <thead>\n",
       "    <tr style=\"text-align: right;\">\n",
       "      <th></th>\n",
       "      <th>label</th>\n",
       "      <th>text</th>\n",
       "      <th>text length</th>\n",
       "      <th>clean_words</th>\n",
       "      <th>clean_text</th>\n",
       "    </tr>\n",
       "  </thead>\n",
       "  <tbody>\n",
       "    <tr>\n",
       "      <th>0</th>\n",
       "      <td>ham</td>\n",
       "      <td>Go until jurong point, crazy.. Available only ...</td>\n",
       "      <td>20</td>\n",
       "      <td>[go, jurong, point, crazi, avail, bugi, n, gre...</td>\n",
       "      <td>go jurong point crazi avail bugi n great world...</td>\n",
       "    </tr>\n",
       "    <tr>\n",
       "      <th>1</th>\n",
       "      <td>ham</td>\n",
       "      <td>Ok lar... Joking wif u oni...</td>\n",
       "      <td>6</td>\n",
       "      <td>[ok, lar, joke, wif, u, oni]</td>\n",
       "      <td>ok lar joke wif u oni</td>\n",
       "    </tr>\n",
       "    <tr>\n",
       "      <th>2</th>\n",
       "      <td>spam</td>\n",
       "      <td>Free entry in 2 a wkly comp to win FA Cup fina...</td>\n",
       "      <td>28</td>\n",
       "      <td>[free, entri, wkli, comp, win, fa, cup, final,...</td>\n",
       "      <td>free entri wkli comp win fa cup final tkts may...</td>\n",
       "    </tr>\n",
       "    <tr>\n",
       "      <th>3</th>\n",
       "      <td>ham</td>\n",
       "      <td>U dun say so early hor... U c already then say...</td>\n",
       "      <td>11</td>\n",
       "      <td>[u, dun, say, earli, hor, u, c, alreadi, say]</td>\n",
       "      <td>u dun say earli hor u c alreadi say</td>\n",
       "    </tr>\n",
       "    <tr>\n",
       "      <th>4</th>\n",
       "      <td>ham</td>\n",
       "      <td>Nah I don't think he goes to usf, he lives aro...</td>\n",
       "      <td>13</td>\n",
       "      <td>[nah, i, dont, think, goe, usf, live, around, ...</td>\n",
       "      <td>nah i dont think goe usf live around though</td>\n",
       "    </tr>\n",
       "  </tbody>\n",
       "</table>\n",
       "</div>"
      ],
      "text/plain": [
       "  label                                               text  text length  \\\n",
       "0   ham  Go until jurong point, crazy.. Available only ...           20   \n",
       "1   ham                      Ok lar... Joking wif u oni...            6   \n",
       "2  spam  Free entry in 2 a wkly comp to win FA Cup fina...           28   \n",
       "3   ham  U dun say so early hor... U c already then say...           11   \n",
       "4   ham  Nah I don't think he goes to usf, he lives aro...           13   \n",
       "\n",
       "                                         clean_words  \\\n",
       "0  [go, jurong, point, crazi, avail, bugi, n, gre...   \n",
       "1                       [ok, lar, joke, wif, u, oni]   \n",
       "2  [free, entri, wkli, comp, win, fa, cup, final,...   \n",
       "3      [u, dun, say, earli, hor, u, c, alreadi, say]   \n",
       "4  [nah, i, dont, think, goe, usf, live, around, ...   \n",
       "\n",
       "                                          clean_text  \n",
       "0  go jurong point crazi avail bugi n great world...  \n",
       "1                              ok lar joke wif u oni  \n",
       "2  free entri wkli comp win fa cup final tkts may...  \n",
       "3                u dun say earli hor u c alreadi say  \n",
       "4        nah i dont think goe usf live around though  "
      ]
     },
     "execution_count": 17,
     "metadata": {},
     "output_type": "execute_result"
    }
   ],
   "source": [
    "sms_df['clean_words'] = sms_df['text'].apply(preprocess_text)\n",
    "sms_df['clean_text'] = sms_df['clean_words'].apply(join_words)\n",
    "sms_df.head()"
   ]
  },
  {
   "cell_type": "code",
   "execution_count": 18,
   "metadata": {},
   "outputs": [],
   "source": [
    "from sklearn.feature_extraction.text import CountVectorizer\n",
    "\n",
    "transformer = CountVectorizer(analyzer = preprocess_text).fit(sms_df['text'])"
   ]
  },
  {
   "cell_type": "code",
   "execution_count": 19,
   "metadata": {},
   "outputs": [
    {
     "name": "stdout",
     "output_type": "stream",
     "text": [
      "The number of unique words in the entire corpus is 6981\n"
     ]
    }
   ],
   "source": [
    "print('The number of unique words in the entire corpus is {count}'.format(count = len(transformer.vocabulary_)))"
   ]
  },
  {
   "cell_type": "code",
   "execution_count": 20,
   "metadata": {},
   "outputs": [],
   "source": [
    "bow_sms = transformer.transform(sms_df['text'])"
   ]
  },
  {
   "cell_type": "code",
   "execution_count": 21,
   "metadata": {},
   "outputs": [
    {
     "name": "stdout",
     "output_type": "stream",
     "text": [
      "The Sparse Matrix for the transformed bag of words for the entire corpus has a shape of (5572, 6981)\n"
     ]
    }
   ],
   "source": [
    "print('The Sparse Matrix for the transformed bag of words for the entire corpus has a shape of {shape}'.format(shape = bow_sms.shape))"
   ]
  },
  {
   "cell_type": "code",
   "execution_count": 22,
   "metadata": {},
   "outputs": [],
   "source": [
    "from sklearn.feature_extraction.text import TfidfTransformer\n",
    "tfidf_transformer = TfidfTransformer().fit(bow_sms)\n",
    "tfidf_sms = tfidf_transformer.transform(bow_sms)"
   ]
  },
  {
   "cell_type": "code",
   "execution_count": 26,
   "metadata": {},
   "outputs": [
    {
     "name": "stdout",
     "output_type": "stream",
     "text": [
      "the Naive Bayes classification report for fold #1 is:\n",
      "              precision    recall  f1-score   support\n",
      "\n",
      "         ham       0.96      1.00      0.98       965\n",
      "        spam       1.00      0.77      0.87       150\n",
      "\n",
      "    accuracy                           0.97      1115\n",
      "   macro avg       0.98      0.88      0.93      1115\n",
      "weighted avg       0.97      0.97      0.97      1115\n",
      "\n",
      "the Random Forest classification report for fold #1 is:\n",
      "              precision    recall  f1-score   support\n",
      "\n",
      "         ham       0.98      1.00      0.99       965\n",
      "        spam       1.00      0.86      0.92       150\n",
      "\n",
      "    accuracy                           0.98      1115\n",
      "   macro avg       0.99      0.93      0.96      1115\n",
      "weighted avg       0.98      0.98      0.98      1115\n",
      "\n",
      "the SVM classification report for fold #1 is:\n",
      "              precision    recall  f1-score   support\n",
      "\n",
      "         ham       0.98      1.00      0.99       965\n",
      "        spam       1.00      0.86      0.92       150\n",
      "\n",
      "    accuracy                           0.98      1115\n",
      "   macro avg       0.99      0.93      0.96      1115\n",
      "weighted avg       0.98      0.98      0.98      1115\n",
      "\n",
      "the Naive Bayes classification report for fold #2 is:\n",
      "              precision    recall  f1-score   support\n",
      "\n",
      "         ham       0.96      1.00      0.98       965\n",
      "        spam       1.00      0.73      0.84       150\n",
      "\n",
      "    accuracy                           0.96      1115\n",
      "   macro avg       0.98      0.86      0.91      1115\n",
      "weighted avg       0.96      0.96      0.96      1115\n",
      "\n",
      "the Random Forest classification report for fold #2 is:\n",
      "              precision    recall  f1-score   support\n",
      "\n",
      "         ham       0.97      1.00      0.98       965\n",
      "        spam       1.00      0.79      0.88       150\n",
      "\n",
      "    accuracy                           0.97      1115\n",
      "   macro avg       0.98      0.90      0.93      1115\n",
      "weighted avg       0.97      0.97      0.97      1115\n",
      "\n",
      "the SVM classification report for fold #2 is:\n",
      "              precision    recall  f1-score   support\n",
      "\n",
      "         ham       0.97      1.00      0.98       965\n",
      "        spam       1.00      0.79      0.88       150\n",
      "\n",
      "    accuracy                           0.97      1115\n",
      "   macro avg       0.98      0.90      0.93      1115\n",
      "weighted avg       0.97      0.97      0.97      1115\n",
      "\n",
      "the Naive Bayes classification report for fold #3 is:\n",
      "              precision    recall  f1-score   support\n",
      "\n",
      "         ham       0.96      1.00      0.98       965\n",
      "        spam       1.00      0.70      0.82       149\n",
      "\n",
      "    accuracy                           0.96      1114\n",
      "   macro avg       0.98      0.85      0.90      1114\n",
      "weighted avg       0.96      0.96      0.96      1114\n",
      "\n",
      "the Random Forest classification report for fold #3 is:\n",
      "              precision    recall  f1-score   support\n",
      "\n",
      "         ham       0.97      1.00      0.99       965\n",
      "        spam       1.00      0.82      0.90       149\n",
      "\n",
      "    accuracy                           0.98      1114\n",
      "   macro avg       0.99      0.91      0.94      1114\n",
      "weighted avg       0.98      0.98      0.97      1114\n",
      "\n",
      "the SVM classification report for fold #3 is:\n",
      "              precision    recall  f1-score   support\n",
      "\n",
      "         ham       0.97      1.00      0.99       965\n",
      "        spam       1.00      0.82      0.90       149\n",
      "\n",
      "    accuracy                           0.98      1114\n",
      "   macro avg       0.99      0.91      0.94      1114\n",
      "weighted avg       0.98      0.98      0.97      1114\n",
      "\n",
      "the Naive Bayes classification report for fold #4 is:\n",
      "              precision    recall  f1-score   support\n",
      "\n",
      "         ham       0.96      1.00      0.98       965\n",
      "        spam       1.00      0.70      0.83       149\n",
      "\n",
      "    accuracy                           0.96      1114\n",
      "   macro avg       0.98      0.85      0.90      1114\n",
      "weighted avg       0.96      0.96      0.96      1114\n",
      "\n",
      "the Random Forest classification report for fold #4 is:\n",
      "              precision    recall  f1-score   support\n",
      "\n",
      "         ham       0.97      1.00      0.98       965\n",
      "        spam       0.98      0.78      0.87       149\n",
      "\n",
      "    accuracy                           0.97      1114\n",
      "   macro avg       0.97      0.89      0.93      1114\n",
      "weighted avg       0.97      0.97      0.97      1114\n",
      "\n",
      "the SVM classification report for fold #4 is:\n",
      "              precision    recall  f1-score   support\n",
      "\n",
      "         ham       0.97      1.00      0.98       965\n",
      "        spam       0.98      0.78      0.87       149\n",
      "\n",
      "    accuracy                           0.97      1114\n",
      "   macro avg       0.97      0.89      0.93      1114\n",
      "weighted avg       0.97      0.97      0.97      1114\n",
      "\n",
      "the Naive Bayes classification report for fold #5 is:\n",
      "              precision    recall  f1-score   support\n",
      "\n",
      "         ham       0.96      1.00      0.98       965\n",
      "        spam       0.98      0.75      0.85       149\n",
      "\n",
      "    accuracy                           0.96      1114\n",
      "   macro avg       0.97      0.87      0.92      1114\n",
      "weighted avg       0.97      0.96      0.96      1114\n",
      "\n",
      "the Random Forest classification report for fold #5 is:\n",
      "              precision    recall  f1-score   support\n",
      "\n",
      "         ham       0.98      1.00      0.99       965\n",
      "        spam       0.99      0.84      0.91       149\n",
      "\n",
      "    accuracy                           0.98      1114\n",
      "   macro avg       0.98      0.92      0.95      1114\n",
      "weighted avg       0.98      0.98      0.98      1114\n",
      "\n",
      "the SVM classification report for fold #5 is:\n",
      "              precision    recall  f1-score   support\n",
      "\n",
      "         ham       0.98      1.00      0.99       965\n",
      "        spam       0.99      0.84      0.91       149\n",
      "\n",
      "    accuracy                           0.98      1114\n",
      "   macro avg       0.98      0.92      0.95      1114\n",
      "weighted avg       0.98      0.98      0.98      1114\n",
      "\n"
     ]
    }
   ],
   "source": [
    "from sklearn.pipeline import Pipeline\n",
    "from sklearn.naive_bayes import MultinomialNB\n",
    "from sklearn.svm import SVC\n",
    "from sklearn.ensemble import RandomForestClassifier\n",
    "from sklearn.metrics import classification_report\n",
    "from sklearn.model_selection import cross_val_score\n",
    "from sklearn.model_selection import StratifiedKFold\n",
    "from sklearn import metrics\n",
    "from sklearn.metrics import confusion_matrix\n",
    "\n",
    "folds = StratifiedKFold(n_splits=5)\n",
    "\n",
    "nb_spam_pipeline = Pipeline([\n",
    "    ('bag of words', CountVectorizer(analyzer=preprocess_text)),\n",
    "    ('tfidf', TfidfTransformer()),\n",
    "    ('classifier', MultinomialNB())\n",
    "])\n",
    "\n",
    "rf_spam_pipeline = Pipeline([\n",
    "    ('bag of words', CountVectorizer(analyzer=preprocess_text)),\n",
    "    ('tfidf', TfidfTransformer()),\n",
    "    ('classifier', RandomForestClassifier(n_estimators=100))\n",
    "])\n",
    "\n",
    "svm_spam_pipeline = Pipeline([\n",
    "    ('bag of words', CountVectorizer(analyzer=preprocess_text)),\n",
    "    ('tfidf', TfidfTransformer()),\n",
    "    ('classifier', SVC(gamma='auto'))\n",
    "])\n",
    "\n",
    "\n",
    "nb_scores = []\n",
    "rf_scores = []\n",
    "svm_scores = []\n",
    "\n",
    "i=1\n",
    "for sms_train_index, sms_test_index in folds.split(sms_df['text'],sms_df['label']):\n",
    "    sms_train, sms_test, label_train, label_test = sms_df['text'][sms_train_index], sms_df['text'][sms_test_index], \\\n",
    "                                       sms_df['label'][sms_train_index], sms_df['label'][sms_test_index]  \n",
    "    \n",
    "    nb_spam_pipeline.fit(sms_train, label_train)\n",
    "    nb_predictions = nb_spam_pipeline.predict(sms_test)\n",
    "    \n",
    "    print('the Naive Bayes classification report for fold #{number} is:'.format(number = i))\n",
    "    print(classification_report(label_test,nb_predictions))\n",
    "    \n",
    "    rf_spam_pipeline.fit(sms_train, label_train)\n",
    "    rf_predictions = rf_spam_pipeline.predict(sms_test)\n",
    "    \n",
    "    print('the Random Forest classification report for fold #{number} is:'.format(number = i))\n",
    "    print(classification_report(label_test,rf_predictions))\n",
    "    \n",
    "    svm_spam_pipeline.fit(sms_train, label_train)\n",
    "    svm_predictions = rf_spam_pipeline.predict(sms_test)\n",
    "    \n",
    "    print('the SVM classification report for fold #{number} is:'.format(number = i))\n",
    "    print(classification_report(label_test,svm_predictions))\n",
    "    \n",
    "    nb_scores.append(nb_spam_pipeline.score(sms_test, label_test))\n",
    "    rf_scores.append(rf_spam_pipeline.score(sms_test, label_test))\n",
    "    svm_scores.append(svm_spam_pipeline.score(sms_test, label_test))\n",
    "    \n",
    "    i = i+1\n",
    "    \n"
   ]
  },
  {
   "cell_type": "code",
   "execution_count": 33,
   "metadata": {},
   "outputs": [
    {
     "name": "stdout",
     "output_type": "stream",
     "text": [
      "The Naive Bayes Spam Detector accuracy results for 5-fold cross validation is:\n",
      "[0.968609865470852, 0.9632286995515695, 0.9596050269299821, 0.9605026929982047, 0.9649910233393177]\n",
      "The Random Forest Spam Detector accuracy results for 5-fold cross validation is:\n",
      "[0.9811659192825112, 0.9721973094170404, 0.9757630161579892, 0.9685816876122083, 0.9775583482944344]\n",
      "The SVM Spam Detector accuracy results for 5-fold cross validation is:\n",
      "[0.8654708520179372, 0.8654708520179372, 0.8662477558348295, 0.8662477558348295, 0.8662477558348295]\n"
     ]
    }
   ],
   "source": [
    "print('The Naive Bayes Spam Detector accuracy results for 5-fold cross validation is:')\n",
    "print(nb_scores)\n",
    "print('The Random Forest Spam Detector accuracy results for 5-fold cross validation is:')\n",
    "print(rf_scores)\n",
    "print('The SVM Spam Detector accuracy results for 5-fold cross validation is:')\n",
    "print(svm_scores)\n",
    "\n",
    "\n",
    "def predict_spam_ham_nb(text):\n",
    "    print(nb_spam_pipeline.predict([text]))\n",
    "    \n",
    "def predict_spam_ham_rf(text):\n",
    "    print(rf_spam_pipeline.predict([text]))\n",
    "    \n",
    "def predict_spam_ham_svm(text):\n",
    "    print(svm_spam_pipeline.predict([text]))"
   ]
  },
  {
   "cell_type": "code",
   "execution_count": 32,
   "metadata": {},
   "outputs": [
    {
     "name": "stdout",
     "output_type": "stream",
     "text": [
      "['ham']\n"
     ]
    }
   ],
   "source": [
    "predict_spam_ham_nb('Hi Anita I will be late for the party tonight. Please let guests know about the situation')"
   ]
  },
  {
   "cell_type": "code",
   "execution_count": 34,
   "metadata": {},
   "outputs": [
    {
     "name": "stdout",
     "output_type": "stream",
     "text": [
      "['ham']\n"
     ]
    }
   ],
   "source": [
    "predict_spam_ham_rf('Hi Anita I will be late for the party tonight. Please let guests know about the situation')"
   ]
  },
  {
   "cell_type": "code",
   "execution_count": 35,
   "metadata": {},
   "outputs": [
    {
     "name": "stdout",
     "output_type": "stream",
     "text": [
      "['ham']\n"
     ]
    }
   ],
   "source": [
    "predict_spam_ham_svm('Hi Anita I will be late for the party tonight. Please let guests know about the situation')"
   ]
  },
  {
   "cell_type": "code",
   "execution_count": 40,
   "metadata": {},
   "outputs": [
    {
     "name": "stdout",
     "output_type": "stream",
     "text": [
      "['spam']\n"
     ]
    }
   ],
   "source": [
    "predict_spam_ham_rf('SIX chances to win CASH! From 100 to 20,000 pounds txt> CSH11 and send to 87575. Cost 150p/day, 6days, 16+ TsandCs apply Reply HL 4 info')"
   ]
  },
  {
   "cell_type": "code",
   "execution_count": 41,
   "metadata": {},
   "outputs": [
    {
     "name": "stdout",
     "output_type": "stream",
     "text": [
      "['spam']\n"
     ]
    }
   ],
   "source": [
    "predict_spam_ham_nb('SIX chances to win CASH! From 100 to 20,000 pounds txt> CSH11 and send to 87575. Cost 150p/day, 6days, 16+ TsandCs apply Reply HL 4 info')"
   ]
  },
  {
   "cell_type": "code",
   "execution_count": 43,
   "metadata": {},
   "outputs": [
    {
     "name": "stdout",
     "output_type": "stream",
     "text": [
      "['ham']\n"
     ]
    }
   ],
   "source": [
    "predict_spam_ham_svm('SIX chances to win CASH! From 100 to 20,000 pounds txt> CSH11 and send to 87575. Cost 150p/day, 6days, 16+ TsandCs apply Reply HL 4 info')"
   ]
  },
  {
   "cell_type": "code",
   "execution_count": null,
   "metadata": {},
   "outputs": [],
   "source": []
  }
 ],
 "metadata": {
  "kernelspec": {
   "display_name": "Python 3",
   "language": "python",
   "name": "python3"
  },
  "language_info": {
   "codemirror_mode": {
    "name": "ipython",
    "version": 3
   },
   "file_extension": ".py",
   "mimetype": "text/x-python",
   "name": "python",
   "nbconvert_exporter": "python",
   "pygments_lexer": "ipython3",
   "version": "3.8.5"
  }
 },
 "nbformat": 4,
 "nbformat_minor": 4
}
